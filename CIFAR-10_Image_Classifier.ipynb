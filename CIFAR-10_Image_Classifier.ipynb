{
 "cells": [
  {
   "cell_type": "markdown",
   "metadata": {},
   "source": [
    "# Introduction\n",
    "\n",
    "In this project, you will build a neural network of your own design to evaluate the CIFAR-10 dataset.\n",
    "\n",
    "To meet the requirements for this project, you will need to achieve an accuracy greater than 45%. \n",
    "If you want to beat Detectocorp's algorithm, you'll need to achieve an accuracy greater than 70%. \n",
    "(Beating Detectocorp's algorithm is not a requirement for passing this project, but you're encouraged to try!)\n",
    "\n",
    "Some of the benchmark results on CIFAR-10 include:\n",
    "\n",
    "78.9% Accuracy | [Deep Belief Networks; Krizhevsky, 2010](https://www.cs.toronto.edu/~kriz/conv-cifar10-aug2010.pdf)\n",
    "\n",
    "90.6% Accuracy | [Maxout Networks; Goodfellow et al., 2013](https://arxiv.org/pdf/1302.4389.pdf)\n",
    "\n",
    "96.0% Accuracy | [Wide Residual Networks; Zagoruyko et al., 2016](https://arxiv.org/pdf/1605.07146.pdf)\n",
    "\n",
    "99.0% Accuracy | [GPipe; Huang et al., 2018](https://arxiv.org/pdf/1811.06965.pdf)\n",
    "\n",
    "98.5% Accuracy | [Rethinking Recurrent Neural Networks and other Improvements for ImageClassification; Nguyen et al., 2020](https://arxiv.org/pdf/2007.15161.pdf)\n",
    "\n",
    "Research with this dataset is ongoing. Notably, many of these networks are quite large and quite expensive to train. \n",
    "\n",
    "## Imports"
   ]
  },
  {
   "cell_type": "code",
   "execution_count": 2,
   "metadata": {},
   "outputs": [],
   "source": [
    "## This cell contains the essential imports you will need – DO NOT CHANGE THE CONTENTS! ##\n",
    "import torch\n",
    "import torch.nn as nn\n",
    "import torch.nn.functional as F\n",
    "import torch.optim as optim\n",
    "import torchvision\n",
    "import torchvision.transforms as transforms\n",
    "import matplotlib.pyplot as plt\n",
    "import numpy as np"
   ]
  },
  {
   "cell_type": "markdown",
   "metadata": {},
   "source": [
    "## Load the Dataset\n",
    "\n",
    "Specify your transforms as a list first.\n",
    "The transforms module is already loaded as `transforms`.\n",
    "\n",
    "CIFAR-10 is fortunately included in the torchvision module.\n",
    "Then, you can create your dataset using the `CIFAR10` object from `torchvision.datasets` ([the documentation is available here](https://pytorch.org/vision/stable/generated/torchvision.datasets.CIFAR10.html)).\n",
    "Make sure to specify `download=True`! \n",
    "\n",
    "Once your dataset is created, you'll also need to define a `DataLoader` from the `torch.utils.data` module for both the train and the test set."
   ]
  },
  {
   "cell_type": "code",
   "execution_count": 3,
   "metadata": {},
   "outputs": [
    {
     "name": "stdout",
     "output_type": "stream",
     "text": [
      "Files already downloaded and verified\n",
      "Files already downloaded and verified\n",
      "Files already downloaded and verified\n"
     ]
    }
   ],
   "source": [
    "from torchvision import datasets\n",
    "\n",
    "# Define transform for exploring/viewing and getting\n",
    "explore_transform = transforms.Compose([transforms.ToTensor()])\n",
    "exploreset = datasets.CIFAR10(\"./CIFAR10/\", train=True, download=True, transform=explore_transform)\n",
    "exploreloader = torch.utils.data.DataLoader(exploreset,batch_size=1000)\n",
    "\n",
    "# Some notes to myself:\n",
    "# The loader normalizes RGB colors to range from 0 to 1. That is why we need to divide\n",
    "# by 255 because pytorch expects the images in the range 0 to 1. \n",
    "# If we computed the mean and std from \"images\" directly, it would not be necessary\n",
    "# ANYWAYS, WE GOTTA USE THE NORMALIZATIONS FROM IMAGENET\n",
    "#mean = exploreset.train_data.mean(axis=(0,1,2))/255.\n",
    "#std = exploreset.train_data.std(axis=(0,1,2))/255.\n",
    "\n",
    "#images, labels = next(iter(exploreloader))\n",
    "#print(exploreset.train_data.shape, type(exploreset.train_data))\n",
    "#print(exploreset.train_data[0,:,:,:])\n",
    "#print(images.numpy().mean(axis=(0,2,3)))\n",
    "#print(images.numpy().std(axis=(0,2,3)))\n",
    "#print(mean)\n",
    "\n",
    "# mean and std from ImageNet (Source: [0.229, 0.224, 0.225])\n",
    "mean = [0.485, 0.456, 0.406]\n",
    "std = [0.229, 0.224, 0.225]\n",
    "\n",
    "\n",
    "# Define transforms\n",
    "train_transforms = transforms.Compose([transforms.RandomRotation(50),\n",
    "                                       # Cropping may actually not be beneficial since\n",
    "                                       # the images seem quite censored\n",
    "                                        transforms.RandomResizedCrop(224),\n",
    "                                        transforms.RandomHorizontalFlip(),\n",
    "                                        transforms.ToTensor(),\n",
    "                                        transforms.Normalize(mean,std)])\n",
    "\n",
    "test_transforms = transforms.Compose([transforms.Resize(255),\n",
    "                                     transforms.CenterCrop(224),\n",
    "                                     transforms.ToTensor(),\n",
    "                                     transforms.Normalize(mean,std)])\n",
    "\n",
    "\n",
    "\n",
    "# Create training set and define training dataloader\n",
    "trainset = datasets.CIFAR10(\"./CIFAR10/\", train=True, download=True, transform=train_transforms)\n",
    "trainloader = torch.utils.data.DataLoader(trainset, batch_size=64, shuffle=True)\n",
    "                                       \n",
    "\n",
    "# Create test set and define test dataloader\n",
    "testset = datasets.CIFAR10(\"./CIFAR10/\", train=False, download=True, transform=test_transforms)\n",
    "testloader = torch.utils.data.DataLoader(testset, batch_size=64, shuffle=True)\n",
    "\n",
    "# The 10 classes in the dataset\n",
    "classes = ('plane', 'car', 'bird', 'cat', 'deer', 'dog', 'frog', 'horse', 'ship', 'truck')"
   ]
  },
  {
   "cell_type": "markdown",
   "metadata": {},
   "source": [
    "## Explore the Dataset\n",
    "Using matplotlib, numpy, and torch, explore the dimensions of your data.\n",
    "\n",
    "You can view images using the `show5` function defined below – it takes a data loader as an argument.\n",
    "Remember that normalized images will look really weird to you! You may want to try changing your transforms to view images.\n",
    "Typically using no transforms other than `toTensor()` works well for viewing – but not as well for training your network.\n",
    "If `show5` doesn't work, go back and check your code for creating your data loaders and your training/test sets."
   ]
  },
  {
   "cell_type": "code",
   "execution_count": 4,
   "metadata": {},
   "outputs": [],
   "source": [
    "def show5(img_loader):\n",
    "    dataiter = iter(img_loader)\n",
    "    \n",
    "    batch = next(dataiter)\n",
    "    labels = batch[1][0:5]\n",
    "    images = batch[0][0:5]\n",
    "    for i in range(5):\n",
    "        print(classes[labels[i]])\n",
    "    \n",
    "        image = images[i].numpy()\n",
    "        plt.imshow(np.rot90(image.T, k=3))\n",
    "        plt.show()"
   ]
  },
  {
   "cell_type": "code",
   "execution_count": 32,
   "metadata": {},
   "outputs": [
    {
     "name": "stdout",
     "output_type": "stream",
     "text": [
      "Shapes of labels and images: torch.Size([64]) torch.Size([64, 3, 224, 224])\n",
      "Number of train and test batches 782 157\n",
      "frog\n"
     ]
    },
    {
     "data": {
      "image/png": "[encoded data removed]",
      "text/plain": [
       "<matplotlib.figure.Figure at 0x7f401802e588>"
      ]
     },
     "metadata": {
      "needs_background": "light"
     },
     "output_type": "display_data"
    },
    {
     "name": "stdout",
     "output_type": "stream",
     "text": [
      "truck\n"
     ]
    },
    {
     "data": {
      "image/png": "[encoded data removed]",
      "text/plain": [
       "<matplotlib.figure.Figure at 0x7f3ffc4e7828>"
      ]
     },
     "metadata": {
      "needs_background": "light"
     },
     "output_type": "display_data"
    },
    {
     "name": "stdout",
     "output_type": "stream",
     "text": [
      "truck\n"
     ]
    },
    {
     "data": {
      "image/png": "[encoded data removed]",
      "text/plain": [
       "<matplotlib.figure.Figure at 0x7f3ffc49bc88>"
      ]
     },
     "metadata": {
      "needs_background": "light"
     },
     "output_type": "display_data"
    },
    {
     "name": "stdout",
     "output_type": "stream",
     "text": [
      "deer\n"
     ]
    },
    {
     "data": {
      "image/png": "[encoded data removed]",
      "text/plain": [
       "<matplotlib.figure.Figure at 0x7f3ffc43bf28>"
      ]
     },
     "metadata": {
      "needs_background": "light"
     },
     "output_type": "display_data"
    },
    {
     "name": "stdout",
     "output_type": "stream",
     "text": [
      "car\n"
     ]
    },
    {
     "data": {
      "image/png": "[encoded data removed]",
      "text/plain": [
       "<matplotlib.figure.Figure at 0x7f402012dba8>"
      ]
     },
     "metadata": {
      "needs_background": "light"
     },
     "output_type": "display_data"
    }
   ],
   "source": [
    "# Explore data\n",
    "# Check dimensions of test images\n",
    "images, labels = next(iter(testloader))\n",
    "print(\"Shapes of labels and images:\", labels.shape,images.shape)\n",
    "print(\"Number of train and test batches\", len(trainloader), len(testloader))\n",
    "\n",
    "# Use exploreloader for plotting since 'show5' cannot display test and train images after\n",
    "# normaliization\n",
    "show5(exploreloader)"
   ]
  },
  {
   "cell_type": "markdown",
   "metadata": {},
   "source": [
    "## Build your Neural Network\n",
    "Using the layers in `torch.nn` (which has been imported as `nn`) and the `torch.nn.functional` module (imported as `F`), construct a neural network based on the parameters of the dataset. \n",
    "Feel free to construct a model of any architecture – feedforward, convolutional, or even something more advanced!"
   ]
  },
  {
   "cell_type": "code",
   "execution_count": 6,
   "metadata": {},
   "outputs": [
    {
     "name": "stderr",
     "output_type": "stream",
     "text": [
      "Downloading: \"https://download.pytorch.org/models/resnet18-5c106cde.pth\" to /root/.torch/models/resnet18-5c106cde.pth\n",
      "100%|██████████| 46827520/46827520 [00:00<00:00, 98915132.45it/s]\n"
     ]
    },
    {
     "data": {
      "text/plain": [
       "ResNet(\n",
       "  (conv1): Conv2d(3, 64, kernel_size=(7, 7), stride=(2, 2), padding=(3, 3), bias=False)\n",
       "  (bn1): BatchNorm2d(64, eps=1e-05, momentum=0.1, affine=True, track_running_stats=True)\n",
       "  (relu): ReLU(inplace)\n",
       "  (maxpool): MaxPool2d(kernel_size=3, stride=2, padding=1, dilation=1, ceil_mode=False)\n",
       "  (layer1): Sequential(\n",
       "    (0): BasicBlock(\n",
       "      (conv1): Conv2d(64, 64, kernel_size=(3, 3), stride=(1, 1), padding=(1, 1), bias=False)\n",
       "      (bn1): BatchNorm2d(64, eps=1e-05, momentum=0.1, affine=True, track_running_stats=True)\n",
       "      (relu): ReLU(inplace)\n",
       "      (conv2): Conv2d(64, 64, kernel_size=(3, 3), stride=(1, 1), padding=(1, 1), bias=False)\n",
       "      (bn2): BatchNorm2d(64, eps=1e-05, momentum=0.1, affine=True, track_running_stats=True)\n",
       "    )\n",
       "    (1): BasicBlock(\n",
       "      (conv1): Conv2d(64, 64, kernel_size=(3, 3), stride=(1, 1), padding=(1, 1), bias=False)\n",
       "      (bn1): BatchNorm2d(64, eps=1e-05, momentum=0.1, affine=True, track_running_stats=True)\n",
       "      (relu): ReLU(inplace)\n",
       "      (conv2): Conv2d(64, 64, kernel_size=(3, 3), stride=(1, 1), padding=(1, 1), bias=False)\n",
       "      (bn2): BatchNorm2d(64, eps=1e-05, momentum=0.1, affine=True, track_running_stats=True)\n",
       "    )\n",
       "  )\n",
       "  (layer2): Sequential(\n",
       "    (0): BasicBlock(\n",
       "      (conv1): Conv2d(64, 128, kernel_size=(3, 3), stride=(2, 2), padding=(1, 1), bias=False)\n",
       "      (bn1): BatchNorm2d(128, eps=1e-05, momentum=0.1, affine=True, track_running_stats=True)\n",
       "      (relu): ReLU(inplace)\n",
       "      (conv2): Conv2d(128, 128, kernel_size=(3, 3), stride=(1, 1), padding=(1, 1), bias=False)\n",
       "      (bn2): BatchNorm2d(128, eps=1e-05, momentum=0.1, affine=True, track_running_stats=True)\n",
       "      (downsample): Sequential(\n",
       "        (0): Conv2d(64, 128, kernel_size=(1, 1), stride=(2, 2), bias=False)\n",
       "        (1): BatchNorm2d(128, eps=1e-05, momentum=0.1, affine=True, track_running_stats=True)\n",
       "      )\n",
       "    )\n",
       "    (1): BasicBlock(\n",
       "      (conv1): Conv2d(128, 128, kernel_size=(3, 3), stride=(1, 1), padding=(1, 1), bias=False)\n",
       "      (bn1): BatchNorm2d(128, eps=1e-05, momentum=0.1, affine=True, track_running_stats=True)\n",
       "      (relu): ReLU(inplace)\n",
       "      (conv2): Conv2d(128, 128, kernel_size=(3, 3), stride=(1, 1), padding=(1, 1), bias=False)\n",
       "      (bn2): BatchNorm2d(128, eps=1e-05, momentum=0.1, affine=True, track_running_stats=True)\n",
       "    )\n",
       "  )\n",
       "  (layer3): Sequential(\n",
       "    (0): BasicBlock(\n",
       "      (conv1): Conv2d(128, 256, kernel_size=(3, 3), stride=(2, 2), padding=(1, 1), bias=False)\n",
       "      (bn1): BatchNorm2d(256, eps=1e-05, momentum=0.1, affine=True, track_running_stats=True)\n",
       "      (relu): ReLU(inplace)\n",
       "      (conv2): Conv2d(256, 256, kernel_size=(3, 3), stride=(1, 1), padding=(1, 1), bias=False)\n",
       "      (bn2): BatchNorm2d(256, eps=1e-05, momentum=0.1, affine=True, track_running_stats=True)\n",
       "      (downsample): Sequential(\n",
       "        (0): Conv2d(128, 256, kernel_size=(1, 1), stride=(2, 2), bias=False)\n",
       "        (1): BatchNorm2d(256, eps=1e-05, momentum=0.1, affine=True, track_running_stats=True)\n",
       "      )\n",
       "    )\n",
       "    (1): BasicBlock(\n",
       "      (conv1): Conv2d(256, 256, kernel_size=(3, 3), stride=(1, 1), padding=(1, 1), bias=False)\n",
       "      (bn1): BatchNorm2d(256, eps=1e-05, momentum=0.1, affine=True, track_running_stats=True)\n",
       "      (relu): ReLU(inplace)\n",
       "      (conv2): Conv2d(256, 256, kernel_size=(3, 3), stride=(1, 1), padding=(1, 1), bias=False)\n",
       "      (bn2): BatchNorm2d(256, eps=1e-05, momentum=0.1, affine=True, track_running_stats=True)\n",
       "    )\n",
       "  )\n",
       "  (layer4): Sequential(\n",
       "    (0): BasicBlock(\n",
       "      (conv1): Conv2d(256, 512, kernel_size=(3, 3), stride=(2, 2), padding=(1, 1), bias=False)\n",
       "      (bn1): BatchNorm2d(512, eps=1e-05, momentum=0.1, affine=True, track_running_stats=True)\n",
       "      (relu): ReLU(inplace)\n",
       "      (conv2): Conv2d(512, 512, kernel_size=(3, 3), stride=(1, 1), padding=(1, 1), bias=False)\n",
       "      (bn2): BatchNorm2d(512, eps=1e-05, momentum=0.1, affine=True, track_running_stats=True)\n",
       "      (downsample): Sequential(\n",
       "        (0): Conv2d(256, 512, kernel_size=(1, 1), stride=(2, 2), bias=False)\n",
       "        (1): BatchNorm2d(512, eps=1e-05, momentum=0.1, affine=True, track_running_stats=True)\n",
       "      )\n",
       "    )\n",
       "    (1): BasicBlock(\n",
       "      (conv1): Conv2d(512, 512, kernel_size=(3, 3), stride=(1, 1), padding=(1, 1), bias=False)\n",
       "      (bn1): BatchNorm2d(512, eps=1e-05, momentum=0.1, affine=True, track_running_stats=True)\n",
       "      (relu): ReLU(inplace)\n",
       "      (conv2): Conv2d(512, 512, kernel_size=(3, 3), stride=(1, 1), padding=(1, 1), bias=False)\n",
       "      (bn2): BatchNorm2d(512, eps=1e-05, momentum=0.1, affine=True, track_running_stats=True)\n",
       "    )\n",
       "  )\n",
       "  (avgpool): AvgPool2d(kernel_size=7, stride=1, padding=0)\n",
       "  (fc): Sequential(\n",
       "    (0): Linear(in_features=512, out_features=256, bias=True)\n",
       "    (1): ReLU()\n",
       "    (2): Dropout(p=0.2)\n",
       "    (3): Linear(in_features=256, out_features=10, bias=True)\n",
       "    (4): LogSoftmax()\n",
       "  )\n",
       ")"
      ]
     },
     "execution_count": 6,
     "metadata": {},
     "output_type": "execute_result"
    }
   ],
   "source": [
    "from torchvision import models\n",
    "\n",
    "device = \"cuda\"\n",
    "\n",
    "# Use resnet18 for transfer learning since it is quite 'small' but should be able to yield\n",
    "# sufficiently accurate results\n",
    "model = models.resnet18(pretrained=True)\n",
    "for param in model.parameters():\n",
    "    param.requires_grad = False\n",
    "\n",
    "# Define curstom fc output layers to suit our classification problem\n",
    "classifier = nn.Sequential(nn.Linear(512,256),nn.ReLU(),nn.Dropout(p=0.2),\n",
    "                           nn.Linear(256,10),nn.LogSoftmax(dim=1))\n",
    "\n",
    "\n",
    "# Replace resnet18 output by the one defined above\n",
    "model.fc = classifier\n",
    "model.to(device)"
   ]
  },
  {
   "cell_type": "markdown",
   "metadata": {},
   "source": [
    "Specify a loss function and an optimizer, and instantiate the model.\n",
    "\n",
    "If you use a less common loss function, please note why you chose that loss function in a comment."
   ]
  },
  {
   "cell_type": "code",
   "execution_count": 7,
   "metadata": {},
   "outputs": [],
   "source": [
    "# Use adam optimizer for only optimizing our custom layers\n",
    "optimizer = optim.Adam(model.fc.parameters(),lr=0.001)\n",
    "# Negativ log likelihood loss should be appropriate\n",
    "criterion = nn.NLLLoss()"
   ]
  },
  {
   "cell_type": "markdown",
   "metadata": {},
   "source": [
    "## Running your Neural Network\n",
    "Use whatever method you like to train your neural network, and ensure you record the average loss at each epoch. \n",
    "Don't forget to use `torch.device()` and the `.to()` method for both your model and your data if you are using GPU!\n",
    "\n",
    "If you want to print your loss during each epoch, you can use the `enumerate` function and print the loss after a set number of batches. 250 batches works well for most people!"
   ]
  },
  {
   "cell_type": "code",
   "execution_count": 8,
   "metadata": {},
   "outputs": [
    {
     "name": "stdout",
     "output_type": "stream",
     "text": [
      "Epoch, Step, Loss 0 50 1.9975132942199707\n",
      "Epoch, Step, Loss 0 100 1.8779526948928833\n",
      "Epoch, Step, Loss 0 150 1.6426388025283813\n",
      "Epoch, Step, Loss 0 200 1.6086868047714233\n",
      "Epoch, Step, Loss 0 250 1.6815741062164307\n",
      "Epoch, Step, Loss 0 300 1.6945602893829346\n",
      "Epoch, Step, Loss 0 350 1.7463963031768799\n",
      "Epoch, Step, Loss 0 400 1.477306842803955\n",
      "Epoch, Step, Loss 0 450 1.6170341968536377\n",
      "Epoch, Step, Loss 0 500 1.8132219314575195\n",
      "Epoch, Step, Loss 0 550 1.4548739194869995\n",
      "Epoch, Step, Loss 0 600 1.5398826599121094\n",
      "Epoch, Step, Loss 0 650 1.5795918703079224\n",
      "Epoch, Step, Loss 0 700 1.707503080368042\n",
      "Epoch, Step, Loss 0 750 1.5087107419967651\n",
      "Epoch 0train loss:  1.674300506596675\n",
      "Epoch, Step, Loss 1 800 1.613783836364746\n",
      "Epoch, Step, Loss 1 850 1.5610647201538086\n",
      "Epoch, Step, Loss 1 900 1.5270414352416992\n",
      "Epoch, Step, Loss 1 950 1.5678815841674805\n",
      "Epoch, Step, Loss 1 1000 1.6348342895507812\n",
      "Epoch, Step, Loss 1 1050 1.4073970317840576\n",
      "Epoch, Step, Loss 1 1100 1.5848835706710815\n",
      "Epoch, Step, Loss 1 1150 1.459397792816162\n",
      "Epoch, Step, Loss 1 1200 1.6228342056274414\n",
      "Epoch, Step, Loss 1 1250 1.2928496599197388\n",
      "Epoch, Step, Loss 1 1300 1.4395852088928223\n",
      "Epoch, Step, Loss 1 1350 1.4863626956939697\n",
      "Epoch, Step, Loss 1 1400 1.8709936141967773\n",
      "Epoch, Step, Loss 1 1450 1.4766308069229126\n",
      "Epoch, Step, Loss 1 1500 1.6724227666854858\n",
      "Epoch, Step, Loss 1 1550 1.3785645961761475\n",
      "Epoch 1train loss:  1.545212989115654\n",
      "Epoch, Step, Loss 2 1600 1.805706262588501\n",
      "Epoch, Step, Loss 2 1650 1.4106158018112183\n",
      "Epoch, Step, Loss 2 1700 1.6902302503585815\n",
      "Epoch, Step, Loss 2 1750 1.435058355331421\n",
      "Epoch, Step, Loss 2 1800 1.4305840730667114\n",
      "Epoch, Step, Loss 2 1850 1.45119309425354\n",
      "Epoch, Step, Loss 2 1900 1.467303991317749\n",
      "Epoch, Step, Loss 2 1950 1.505518913269043\n",
      "Epoch, Step, Loss 2 2000 1.6140090227127075\n",
      "Epoch, Step, Loss 2 2050 1.3364289999008179\n",
      "Epoch, Step, Loss 2 2100 1.6933623552322388\n",
      "Epoch, Step, Loss 2 2150 1.616728663444519\n",
      "Epoch, Step, Loss 2 2200 1.3991494178771973\n",
      "Epoch, Step, Loss 2 2250 1.743024468421936\n",
      "Epoch, Step, Loss 2 2300 1.6184942722320557\n",
      "Epoch 2train loss:  1.5218092826626184\n",
      "Epoch, Step, Loss 3 2350 1.460772156715393\n",
      "Epoch, Step, Loss 3 2400 1.566474199295044\n",
      "Epoch, Step, Loss 3 2450 1.4668015241622925\n",
      "Epoch, Step, Loss 3 2500 1.6803233623504639\n",
      "Epoch, Step, Loss 3 2550 1.1519105434417725\n",
      "Epoch, Step, Loss 3 2600 1.47161066532135\n",
      "Epoch, Step, Loss 3 2650 1.4221575260162354\n",
      "Epoch, Step, Loss 3 2700 1.6551719903945923\n",
      "Epoch, Step, Loss 3 2750 1.558045506477356\n",
      "Epoch, Step, Loss 3 2800 1.559147834777832\n",
      "Epoch, Step, Loss 3 2850 1.3386342525482178\n",
      "Epoch, Step, Loss 3 2900 1.4508932828903198\n",
      "Epoch, Step, Loss 3 2950 1.5261441469192505\n",
      "Epoch, Step, Loss 3 3000 1.3166961669921875\n",
      "Epoch, Step, Loss 3 3050 1.2153573036193848\n",
      "Epoch, Step, Loss 3 3100 1.5467307567596436\n",
      "Epoch 3train loss:  1.499662522159879\n",
      "Epoch, Step, Loss 4 3150 1.398416519165039\n",
      "Epoch, Step, Loss 4 3200 1.4954028129577637\n",
      "Epoch, Step, Loss 4 3250 1.525407075881958\n",
      "Epoch, Step, Loss 4 3300 1.5554226636886597\n",
      "Epoch, Step, Loss 4 3350 1.4265718460083008\n",
      "Epoch, Step, Loss 4 3400 1.6297227144241333\n",
      "Epoch, Step, Loss 4 3450 1.4130768775939941\n",
      "Epoch, Step, Loss 4 3500 1.5959433317184448\n",
      "Epoch, Step, Loss 4 3550 1.4675883054733276\n",
      "Epoch, Step, Loss 4 3600 1.500748634338379\n",
      "Epoch, Step, Loss 4 3650 1.4837888479232788\n",
      "Epoch, Step, Loss 4 3700 1.3265788555145264\n",
      "Epoch, Step, Loss 4 3750 1.5204317569732666\n",
      "Epoch, Step, Loss 4 3800 1.45033597946167\n",
      "Epoch, Step, Loss 4 3850 1.560255765914917\n",
      "Epoch, Step, Loss 4 3900 1.3137630224227905\n",
      "Epoch 4train loss:  1.4900093410935853\n"
     ]
    }
   ],
   "source": [
    "epochs = 5\n",
    "train_losses_epoch = []\n",
    "train_losses_batch = []\n",
    "validation_losses = []\n",
    "\n",
    "# No validation during training since it is expensive. \n",
    "# After the training loop we do validate our optimized model on the test set anyways\n",
    "lvalidate = False\n",
    "\n",
    "istep = 0\n",
    "iprint = 50\n",
    "for epoch in range(epochs):\n",
    "    \n",
    "    running_loss = 0.\n",
    "    \n",
    "    for images, labels in trainloader:\n",
    "        # Move data to GPU\n",
    "        images, labels = (images.to(device), labels.to(device))\n",
    "        \n",
    "        optimizer.zero_grad()\n",
    "        \n",
    "        logps = model.forward(images)\n",
    "        loss = criterion(logps,labels)\n",
    "        loss.backward()\n",
    "        \n",
    "        optimizer.step()\n",
    "        running_loss += loss.item()\n",
    "        \n",
    "        train_losses_batch.append(loss.item())\n",
    "        \n",
    "        istep += 1\n",
    "        if istep%iprint==0: print(\"Epoch, Step, Loss\", epoch, istep, loss.item())\n",
    "            \n",
    "        if istep%iprint == 0 and lvalidate:\n",
    "            validation_loss = 0\n",
    "            acc = 0.\n",
    "            \n",
    "            model.eval()\n",
    "            with torch.no_grad():\n",
    "                for images, labels in testloader:\n",
    "                    logps = model.forward(images)\n",
    "                    ps = torch.exp(logps)\n",
    "                    loss = criterion(logps,labels)\n",
    "                    \n",
    "                    validation_loss += loss.item()\n",
    "                    \n",
    "                    top_class = ps.topk(1,dim=1)[1]\n",
    "                    n_tptn = top_class == labels.view(*top_class.shape)\n",
    "                    acc += torch.mean(n_tptn.type(torch.FloatTensor)).item()\n",
    "            model.train()\n",
    "            \n",
    "            print(\"Epoch, istep\",epoch+1, istep)\n",
    "            print(\"Accuracy [%]: \", acc/len(testloader)*100)\n",
    "            print(\"Train loss: \", running_loss/(iprint*istep) )\n",
    "            print(\"Validation loss\", validation_loss/len(testloader))\n",
    "    else:\n",
    "        train_losses_epoch.append(running_loss/len(trainloader))\n",
    "        print(\"Epoch \" + str(epoch) + \"train loss: \",running_loss/len(trainloader))\n",
    "                    \n",
    "        "
   ]
  },
  {
   "cell_type": "markdown",
   "metadata": {},
   "source": [
    "Plot the training loss (and validation loss/accuracy, if recorded)."
   ]
  },
  {
   "cell_type": "code",
   "execution_count": 29,
   "metadata": {},
   "outputs": [
    {
     "data": {
      "text/plain": [
       "([<matplotlib.axis.XTick at 0x7f4034f9dba8>,\n",
       "  <matplotlib.axis.XTick at 0x7f4034f288d0>,\n",
       "  <matplotlib.axis.XTick at 0x7f40201aae48>,\n",
       "  <matplotlib.axis.XTick at 0x7f4035016208>,\n",
       "  <matplotlib.axis.XTick at 0x7f4035016588>],\n",
       " <a list of 5 Text xticklabel objects>)"
      ]
     },
     "execution_count": 29,
     "metadata": {},
     "output_type": "execute_result"
    },
    {
     "data": {
      "image/png": "[encoded data removed]",
      "text/plain": [
       "<matplotlib.figure.Figure at 0x7f4034f02358>"
      ]
     },
     "metadata": {
      "needs_background": "light"
     },
     "output_type": "display_data"
    }
   ],
   "source": [
    "## YOUR CODE HERE ##\n",
    "plt.plot(range(len(train_losses_epoch)),train_losses_epoch)\n",
    "plt.ylabel(\"Loss\")\n",
    "plt.xlabel(\"Epoch\")\n",
    "plt.xticks([0,1,2,3,4])"
   ]
  },
  {
   "cell_type": "markdown",
   "metadata": {},
   "source": [
    "## Testing your model\n",
    "Using the previously created `DataLoader` for the test set, compute the percentage of correct predictions using the highest probability prediction. \n",
    "\n",
    "If your accuracy is over 70%, great work! \n",
    "This is a hard task to exceed 70% on.\n",
    "\n",
    "If your accuracy is under 45%, you'll need to make improvements.\n",
    "Go back and check your model architecture, loss function, and optimizer to make sure they're appropriate for an image classification task."
   ]
  },
  {
   "cell_type": "code",
   "execution_count": 13,
   "metadata": {},
   "outputs": [
    {
     "name": "stdout",
     "output_type": "stream",
     "text": [
      "Accuracy [%]:  67.90406050955414\n",
      "Validation/Test Loss 0.9194602548696433\n"
     ]
    }
   ],
   "source": [
    "## YOUR CODE HERE ##\n",
    "running_loss = 0.\n",
    "acc = 0.\n",
    "   \n",
    "# Turn off dropout (evaluation model)\n",
    "model.eval()\n",
    "\n",
    "with torch.no_grad():\n",
    "    for images, labels in testloader:\n",
    "        images, labels = (images.to(device), labels.to(device))\n",
    "        logps = model.forward(images)\n",
    "        ps = torch.exp(logps)\n",
    "        loss = criterion(logps,labels)\n",
    "                    \n",
    "        running_loss += loss.item()\n",
    "                    \n",
    "        top_class = ps.topk(1,dim=1)[1]\n",
    "        n_tptn = top_class == labels.view(*top_class.shape)\n",
    "        acc += torch.mean(n_tptn.type(torch.FloatTensor)).item()\n",
    "           \n",
    "            \n",
    "print(\"Accuracy [%]: \", acc/len(testloader)*100)\n",
    "print(\"Validation/Test Loss\", running_loss/len(testloader))"
   ]
  },
  {
   "cell_type": "markdown",
   "metadata": {},
   "source": [
    "## Saving your model\n",
    "Using `torch.save`, save your model for future loading."
   ]
  },
  {
   "cell_type": "code",
   "execution_count": 26,
   "metadata": {},
   "outputs": [],
   "source": [
    "## YOUR CODE HERE ##\n",
    "checkpoint = {'inputs': 224*224*3,\n",
    "              'layer1': model.layer1,\n",
    "              'layer2': model.layer2,\n",
    "              'layer3': model.layer3,\n",
    "              'layer4': model.layer4,\n",
    "              'fc': model.fc,\n",
    "              'outputs': 10,\n",
    "              'state_dict': model.state_dict()}\n",
    "torch.save(checkpoint, 'checkpoint.pth')"
   ]
  },
  {
   "cell_type": "markdown",
   "metadata": {},
   "source": [
    "## Make a Recommendation\n",
    "\n",
    "Based on your evaluation, what is your recommendation on whether to build or buy? Explain your reasoning below.\n",
    "\n",
    "Some things to consider as you formulate your recommendation:\n",
    "* How does your model compare to Detectocorp's model?\n",
    "* How does it compare to the far more advanced solutions in the literature? \n",
    "* What did you do to get the accuracy you achieved? \n",
    "* Is it necessary to improve this accuracy? If so, what sort of work would be involved in improving it?"
   ]
  },
  {
   "cell_type": "markdown",
   "metadata": {},
   "source": [
    "<ul>\n",
    "    <li> I just used transfer learning on a publicly available model and without much \n",
    "        finetuning and even with without fully converging the model, I achieved an\n",
    "        accuracy of roughly 68 %. This is only 2 % less than the accuracy of Detectocorp's\n",
    "        model. I do not think that we should to pay for their model as we could easily\n",
    "        get an accuracy  of 70 %  without having to spend much time on that.\n",
    "         </li>\n",
    "    <li> I just trained the last layer of the model. If we optimized more of layers, like \n",
    "        e.g. some of the input layers, potentially used a bigger model \n",
    "        let it train a bit longer and did some more \n",
    "        hyperparameter tuning, we could achieve even better accuracy than Detectocorp's\n",
    "        model. But if we say, 70 % is what we aim for, we could also just use my model\n",
    "        as it is since there is only aa 2 % difference between the two, which I doubt\n",
    "        would be significant for our purpose</li>\n",
    "    <li> Obviously, there are some better model's in the recent literature, which show an\n",
    "        accuracy of about 99 %, which is far better than my model. \n",
    "        But if we could afford some more GPU hours to use transfer\n",
    "        learning on a bigger model like ResNet50 and fine-tuned the entire model (all\n",
    "        layers), we could probably get an accuracy of over 90 %.  </li>\n",
    "    <li> Anyways, in my opinion buying Detectocorp's model should not be an option, given\n",
    "        the fact that I achieved the same accuracy within a bit more than a afternoon\n",
    "        of work.</li>\n",
    "</ul>"
   ]
  },
  {
   "cell_type": "markdown",
   "metadata": {},
   "source": [
    "## Submit Your Project\n",
    "\n",
    "When you are finished editing the notebook and are ready to turn it in, simply click the **SUBMIT PROJECT** button in the lower right.\n",
    "\n",
    "Once you submit your project, we'll review your work and give you feedback if there's anything that you need to work on. If you'd like to see the exact points that your reviewer will check for when looking at your work, you can have a look over the project [rubric](https://review.udacity.com/#!/rubrics/3077/view)."
   ]
  }
 ],
 "metadata": {
  "kernelspec": {
   "display_name": "Python 3",
   "language": "python",
   "name": "python3"
  },
  "language_info": {
   "codemirror_mode": {
    "name": "ipython",
    "version": 3
   },
   "file_extension": ".py",
   "mimetype": "text/x-python",
   "name": "python",
   "nbconvert_exporter": "python",
   "pygments_lexer": "ipython3",
   "version": "3.6.3"
  }
 },
 "nbformat": 4,
 "nbformat_minor": 4
}
